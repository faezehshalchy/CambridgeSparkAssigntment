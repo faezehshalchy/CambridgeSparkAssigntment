{
 "cells": [
  {
   "cell_type": "markdown",
   "metadata": {},
   "source": [
    "# AI Data Specialist Apprenticeship Onboarding Test\n",
    "\n",
    "<br>\n",
    "Welcome to the Cambridge Spark Initial assessment for the L7 AI Data Specialist apprenticeship. The following questions are designed to determine your knowledge of the basic Python and Maths we will be using throughout the course.\n",
    "You are welcome to attempt these exercises and submit your answers as many times as you would like. However the guidance  time for completing these exercises is 2 hours and we recommend you do not spend significantly more time than this.\n",
    "\n",
    "The assessment will consist of five short Maths questions and one longer programming question.\n",
    "\n",
    "Optional reading materials have been provided to you, which will help if you are unfamiliar with Jupyter and should provide some useful revision for the topics covered in the questions below."
   ]
  },
  {
   "cell_type": "markdown",
   "metadata": {},
   "source": [
    "KATE expects your code to define variables with specific names that correspond to certain things we are interested in.\n",
    "\n",
    "KATE will run your notebook from top to bottom and check the latest value of those variables, so make sure you don't overwrite them.\n",
    "\n",
    "* Remember to uncomment the line assigning the variable to your answer and don't change the variable or function names.\n",
    "* Use copies of the original or previous DataFrames to make sure you do not overwrite them by mistake.\n",
    "\n",
    "You will find instructions below about how to define each variable.\n",
    "\n",
    "Once you're happy with your code, upload your notebook to KATE to check your feedback."
   ]
  },
  {
   "cell_type": "markdown",
   "metadata": {},
   "source": [
    "### Maths Questions\n"
   ]
  },
  {
   "cell_type": "markdown",
   "metadata": {},
   "source": [
    "Please complete the following questions using '_vanilla_' Python, meaning without help from any  libraries, they should not be needed. "
   ]
  },
  {
   "cell_type": "markdown",
   "metadata": {},
   "source": [
    "**Q1. Probability of a coin toss**\n",
    "\n",
    "Given a coin has probabilty `p` of landing heads up, define a function to calculate the probability of getting `n` heads in a row for some number `n`. Your function should return the probability \n",
    "\n",
    "Uncomment the function defined below and add your code to complete this question."
   ]
  },
  {
   "cell_type": "code",
   "execution_count": 1,
   "metadata": {},
   "outputs": [
    {
     "data": {
      "text/plain": [
       "0.0009765625"
      ]
     },
     "execution_count": 1,
     "metadata": {},
     "output_type": "execute_result"
    }
   ],
   "source": [
    "# def head_tails(p,n):\n",
    "#     # Uncomment the function and add your code below\n",
    "\n",
    "def head_tails(p,n):\n",
    "    return p**n\n",
    "\n",
    "p=0.5\n",
    "n=10\n",
    "head_tails(p,n)\n"
   ]
  },
  {
   "cell_type": "markdown",
   "metadata": {},
   "source": [
    "**Q2. Calculating the mean**\n",
    "\n",
    "Given a list `data` containing a random amount of numbers, define a function that returns the mean of that list.\n",
    "\n",
    "Your function should raise a `ValueError` if the list is empty.\n",
    "\n",
    "Uncomment the function defined below and add your code to complete this question."
   ]
  },
  {
   "cell_type": "code",
   "execution_count": 3,
   "metadata": {},
   "outputs": [
    {
     "name": "stdout",
     "output_type": "stream",
     "text": [
      "The average is 18.4\n"
     ]
    }
   ],
   "source": [
    "# def calculate_mean(data):\n",
    "#     # Uncomment the function and add your code below\n",
    "   \n",
    "def calculate_mean(data):\n",
    "    sum_num = 0\n",
    "    for i in data:\n",
    "        sum_num += i           \n",
    "\n",
    "    mean = sum_num / len(data)\n",
    "    return mean\n",
    "\n",
    "\n",
    "data = [18,25,3,41,5]\n",
    "print(\"The average is\", calculate_mean(data))"
   ]
  },
  {
   "cell_type": "markdown",
   "metadata": {},
   "source": [
    "**Q3. Calculating the standard deviation**\n",
    "\n",
    "Define a new function to calculate the standard deviation of the list `data`.\n",
    "\n",
    "**Hint:**  Your `calculate_mean` function from Q2 may be helpful\n",
    "\n",
    "Again your function should raise a `ValueError` if the list is empty.\n",
    "\n",
    "Uncomment the function defined below and add your code to complete this question."
   ]
  },
  {
   "cell_type": "code",
   "execution_count": 6,
   "metadata": {},
   "outputs": [
    {
     "name": "stdout",
     "output_type": "stream",
     "text": [
      "The standard deviation is 1.9790570145063195\n"
     ]
    }
   ],
   "source": [
    "# def calculate_standard_deviation(data):\n",
    "#     # Uncomment the function and add your code below\n",
    "def calculate_standard_deviation(data):\n",
    "    n = len(data)\n",
    "    mean = calculate_mean(data)   \n",
    "    deviations = [(x - mean) ** 2 for x in data]\n",
    "    variance = sum(deviations) / n\n",
    "    return variance**0.5\n",
    "\n",
    "\n",
    "data = [3, 5, 2, 7, 1, 3]\n",
    "print(\"The standard deviation is\", calculate_standard_deviation(data))"
   ]
  },
  {
   "cell_type": "markdown",
   "metadata": {},
   "source": [
    "**Q4. Calculating the derivative**\n",
    "\n",
    "Given the following equation:\n",
    "\n",
    "\\begin{equation*}\n",
    "f(x) = w1 * x^3 + w2 * x - 1\n",
    "\\end{equation*}\n",
    "\n",
    "define a function that calculates the derivative of  $f$ with respect to $x$\n",
    "\n",
    "Your solution should contain the unknown variable $w1$ and $w2$.\n",
    "\n",
    "Uncomment the function defined below and add your code to complete this question."
   ]
  },
  {
   "cell_type": "code",
   "execution_count": 13,
   "metadata": {},
   "outputs": [
    {
     "data": {
      "text/plain": [
       "'9 x^2 + 2'"
      ]
     },
     "execution_count": 13,
     "metadata": {},
     "output_type": "execute_result"
    }
   ],
   "source": [
    "# def derivative(w1, w2, x):\n",
    "#     # Uncomment the function and add your code below\n",
    "\n",
    "def derivative(w1, w2, x):\n",
    "    df = str(w1 * 3) + ' ' + x + '^2' + ' + '+ str(w2) \n",
    "    return df\n",
    "\n",
    "\n",
    "w1 = 3\n",
    "w2 = 2\n",
    "x = 'x'\n",
    "derivative(w1, w2, x)"
   ]
  },
  {
   "cell_type": "markdown",
   "metadata": {},
   "source": [
    "**Q5. Linear Algebra. Calculating the dot product**\n",
    "\n",
    "Given two vectors (one-dimensional arrays e.g. `[1,2,3]`) of the same length `u` and `v`  define a function that calculates the dot product of the two vectors.\n",
    "\n",
    "Uncomment the function defined below and add your code to complete this question."
   ]
  },
  {
   "cell_type": "code",
   "execution_count": null,
   "metadata": {},
   "outputs": [],
   "source": [
    "# def dot_product(u, v):\n",
    "#     # Uncomment the function and add your code below\n",
    "\n",
    "    \n"
   ]
  },
  {
   "cell_type": "markdown",
   "metadata": {},
   "source": [
    "### Programming Questions"
   ]
  },
  {
   "cell_type": "markdown",
   "metadata": {},
   "source": [
    "**Q1. Making a profit**\n",
    "\n",
    "For this question, you will need to implement a function that computes the minimum number of units that need to be manufactured by a factory for their process to be profitable or break even.\n",
    "\n",
    "We assume that each unit manufactured is sold at the `sell_price` and has a cost to manufacture, the `cost_per_unit`. In addition you will need to take into account the constant costs associated with running the factory, the `fixed_cost`.\n",
    "   \n",
    "\n",
    "Your goal is to find how many units need to be built and sold in order for the total cost to be entirely covered by sales. Your function should output this number of units.\n",
    "\n",
    "\n",
    "For example for  `minimum_profitable_volume(sell_price, fixed_cost, cost_per_unit)`\n",
    "we would have the following output:\n",
    " \n",
    "* `minimum_profitable_volume(1020, 1000, 20)` returns `1` \n",
    "* `minimum_profitable_volume(1019, 1000, 20)` return `2`\n",
    "* `minimum_profitable_volume(30, 1000, 20)` returns  `100`\n",
    "\n",
    "**Note**: It isn't sustainable for the factory to sell a unit at a lower price than its manufacturing cost as it wouldn't make any profit. If that is the case and you cannot be profitable, your function should return `None`.\n",
    "\n",
    "   \n",
    "Uncomment the function defined below and add your code to complete this question."
   ]
  },
  {
   "cell_type": "code",
   "execution_count": null,
   "metadata": {},
   "outputs": [],
   "source": [
    "# def minimum_profitable_volume(sell_price, fixed_cost, cost_per_unit):\n",
    "#     # Uncomment the function and add your code below\n",
    "\n",
    "\n"
   ]
  }
 ],
 "metadata": {
  "kernelspec": {
   "display_name": "Python 3",
   "language": "python",
   "name": "python3"
  },
  "language_info": {
   "codemirror_mode": {
    "name": "ipython",
    "version": 3
   },
   "file_extension": ".py",
   "mimetype": "text/x-python",
   "name": "python",
   "nbconvert_exporter": "python",
   "pygments_lexer": "ipython3",
   "version": "3.8.5"
  }
 },
 "nbformat": 4,
 "nbformat_minor": 5
}
